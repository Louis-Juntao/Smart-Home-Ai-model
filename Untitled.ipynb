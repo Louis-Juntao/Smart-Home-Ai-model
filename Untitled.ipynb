{
 "cells": [
  {
   "cell_type": "code",
   "execution_count": 2,
   "id": "cebf20d6-b30f-4ac4-946c-56a38e24a045",
   "metadata": {
    "collapsed": true,
    "jupyter": {
     "outputs_hidden": true
    }
   },
   "outputs": [
    {
     "name": "stdout",
     "output_type": "stream",
     "text": [
      "Models loaded successfully.\n",
      "Predicted room: 4, Current room: None\n",
      "User moved from room None to room 4.\n",
      "User entered room 4. Turning on the light.\n"
     ]
    },
    {
     "name": "stderr",
     "output_type": "stream",
     "text": [
      "C:\\Users\\dell\\anaconda3\\Lib\\site-packages\\sklearn\\base.py:493: UserWarning: X does not have valid feature names, but StandardScaler was fitted with feature names\n",
      "  warnings.warn(\n",
      "C:\\Users\\dell\\anaconda3\\Lib\\site-packages\\sklearn\\base.py:493: UserWarning: X does not have valid feature names, but StandardScaler was fitted with feature names\n",
      "  warnings.warn(\n"
     ]
    },
    {
     "name": "stdout",
     "output_type": "stream",
     "text": [
      "Predicted room: 2, Current room: 4\n",
      "User moved from room 4 to room 2.\n",
      "User left room 4. Turning off the light.\n",
      "User entered room 2. Turning on the light.\n"
     ]
    },
    {
     "name": "stderr",
     "output_type": "stream",
     "text": [
      "C:\\Users\\dell\\anaconda3\\Lib\\site-packages\\sklearn\\base.py:493: UserWarning: X does not have valid feature names, but StandardScaler was fitted with feature names\n",
      "  warnings.warn(\n"
     ]
    },
    {
     "name": "stdout",
     "output_type": "stream",
     "text": [
      "Predicted room: 1, Current room: 2\n",
      "User moved from room 2 to room 1.\n",
      "User left room 2. Turning off the light.\n",
      "User entered room 1. Turning on the light.\n"
     ]
    },
    {
     "name": "stderr",
     "output_type": "stream",
     "text": [
      "C:\\Users\\dell\\anaconda3\\Lib\\site-packages\\sklearn\\base.py:493: UserWarning: X does not have valid feature names, but StandardScaler was fitted with feature names\n",
      "  warnings.warn(\n"
     ]
    },
    {
     "name": "stdout",
     "output_type": "stream",
     "text": [
      "Predicted room: 1, Current room: 1\n"
     ]
    },
    {
     "name": "stderr",
     "output_type": "stream",
     "text": [
      "C:\\Users\\dell\\anaconda3\\Lib\\site-packages\\sklearn\\base.py:493: UserWarning: X does not have valid feature names, but StandardScaler was fitted with feature names\n",
      "  warnings.warn(\n"
     ]
    },
    {
     "name": "stdout",
     "output_type": "stream",
     "text": [
      "Predicted room: 2, Current room: 1\n",
      "User moved from room 1 to room 2.\n",
      "User left room 1. Turning off the light.\n",
      "User entered room 2. Turning on the light.\n"
     ]
    },
    {
     "name": "stderr",
     "output_type": "stream",
     "text": [
      "C:\\Users\\dell\\anaconda3\\Lib\\site-packages\\sklearn\\base.py:493: UserWarning: X does not have valid feature names, but StandardScaler was fitted with feature names\n",
      "  warnings.warn(\n"
     ]
    },
    {
     "name": "stdout",
     "output_type": "stream",
     "text": [
      "Predicted room: 1, Current room: 2\n",
      "User moved from room 2 to room 1.\n",
      "User left room 2. Turning off the light.\n",
      "User entered room 1. Turning on the light.\n"
     ]
    },
    {
     "name": "stderr",
     "output_type": "stream",
     "text": [
      "C:\\Users\\dell\\anaconda3\\Lib\\site-packages\\sklearn\\base.py:493: UserWarning: X does not have valid feature names, but StandardScaler was fitted with feature names\n",
      "  warnings.warn(\n"
     ]
    },
    {
     "name": "stdout",
     "output_type": "stream",
     "text": [
      "Predicted room: 1, Current room: 1\n"
     ]
    },
    {
     "name": "stderr",
     "output_type": "stream",
     "text": [
      "C:\\Users\\dell\\anaconda3\\Lib\\site-packages\\sklearn\\base.py:493: UserWarning: X does not have valid feature names, but StandardScaler was fitted with feature names\n",
      "  warnings.warn(\n"
     ]
    },
    {
     "name": "stdout",
     "output_type": "stream",
     "text": [
      "Predicted room: 1, Current room: 1\n"
     ]
    },
    {
     "name": "stderr",
     "output_type": "stream",
     "text": [
      "C:\\Users\\dell\\anaconda3\\Lib\\site-packages\\sklearn\\base.py:493: UserWarning: X does not have valid feature names, but StandardScaler was fitted with feature names\n",
      "  warnings.warn(\n"
     ]
    },
    {
     "name": "stdout",
     "output_type": "stream",
     "text": [
      "Predicted room: 1, Current room: 1\n"
     ]
    },
    {
     "name": "stderr",
     "output_type": "stream",
     "text": [
      "C:\\Users\\dell\\anaconda3\\Lib\\site-packages\\sklearn\\base.py:493: UserWarning: X does not have valid feature names, but StandardScaler was fitted with feature names\n",
      "  warnings.warn(\n"
     ]
    },
    {
     "name": "stdout",
     "output_type": "stream",
     "text": [
      "Predicted room: 1, Current room: 1\n"
     ]
    },
    {
     "name": "stderr",
     "output_type": "stream",
     "text": [
      "C:\\Users\\dell\\anaconda3\\Lib\\site-packages\\sklearn\\base.py:493: UserWarning: X does not have valid feature names, but StandardScaler was fitted with feature names\n",
      "  warnings.warn(\n"
     ]
    },
    {
     "name": "stdout",
     "output_type": "stream",
     "text": [
      "Predicted room: 1, Current room: 1\n"
     ]
    },
    {
     "name": "stderr",
     "output_type": "stream",
     "text": [
      "C:\\Users\\dell\\anaconda3\\Lib\\site-packages\\sklearn\\base.py:493: UserWarning: X does not have valid feature names, but StandardScaler was fitted with feature names\n",
      "  warnings.warn(\n"
     ]
    },
    {
     "name": "stdout",
     "output_type": "stream",
     "text": [
      "Predicted room: 2, Current room: 1\n",
      "User moved from room 1 to room 2.\n",
      "User left room 1. Turning off the light.\n",
      "User entered room 2. Turning on the light.\n"
     ]
    },
    {
     "ename": "KeyboardInterrupt",
     "evalue": "",
     "output_type": "error",
     "traceback": [
      "\u001b[1;31m---------------------------------------------------------------------------\u001b[0m",
      "\u001b[1;31mKeyboardInterrupt\u001b[0m                         Traceback (most recent call last)",
      "Cell \u001b[1;32mIn[2], line 152\u001b[0m\n\u001b[0;32m    150\u001b[0m \u001b[38;5;66;03m# 运行智能家居系统\u001b[39;00m\n\u001b[0;32m    151\u001b[0m \u001b[38;5;28;01mif\u001b[39;00m \u001b[38;5;18m__name__\u001b[39m \u001b[38;5;241m==\u001b[39m \u001b[38;5;124m\"\u001b[39m\u001b[38;5;124m__main__\u001b[39m\u001b[38;5;124m\"\u001b[39m:\n\u001b[1;32m--> 152\u001b[0m     run_smart_home_system()\n",
      "Cell \u001b[1;32mIn[2], line 148\u001b[0m, in \u001b[0;36mrun_smart_home_system\u001b[1;34m()\u001b[0m\n\u001b[0;32m    145\u001b[0m     current_room \u001b[38;5;241m=\u001b[39m new_room\n\u001b[0;32m    147\u001b[0m \u001b[38;5;66;03m# 等待 1 秒再进行下一次检测，响应更快\u001b[39;00m\n\u001b[1;32m--> 148\u001b[0m time\u001b[38;5;241m.\u001b[39msleep(\u001b[38;5;241m1\u001b[39m)\n",
      "\u001b[1;31mKeyboardInterrupt\u001b[0m: "
     ]
    }
   ],
   "source": [
    "import speech_recognition as sr\n",
    "import joblib\n",
    "import pyttsx3\n",
    "import numpy as np\n",
    "import pandas as pd\n",
    "import time\n",
    "import os\n",
    "from sklearn.model_selection import train_test_split\n",
    "from sklearn.preprocessing import StandardScaler\n",
    "from sklearn.svm import SVC\n",
    "from sklearn.metrics import accuracy_score\n",
    "\n",
    "# 优化：检查 Wi-Fi 数据集路径是否存在\n",
    "DATA_PATH = 'wifi_localization.txt'\n",
    "\n",
    "def load_wifi_data(data_path):\n",
    "    \"\"\"加载Wi-Fi定位数据并进行预处理\"\"\"\n",
    "    if not os.path.exists(data_path):\n",
    "        print(f\"Error: Data file '{data_path}' not found.\")\n",
    "        return None\n",
    "\n",
    "    print(f\"Loading Wi-Fi localization data from {data_path}...\")\n",
    "    data = pd.read_csv(data_path, sep='\\t', header=None)\n",
    "    data.columns = [f\"Signal_{i+1}\" for i in range(7)] + [\"Room\"]\n",
    "    return data\n",
    "\n",
    "# 加载 Wi-Fi 室内定位模型和标准化器\n",
    "def load_wifi_model():\n",
    "    try:\n",
    "        svm_wifi_model = joblib.load('svm_wifi_localization_model.pkl')\n",
    "        scaler = joblib.load('scaler.pkl')\n",
    "        print(\"Models loaded successfully.\")\n",
    "    except FileNotFoundError:\n",
    "        print(\"Model files not found. Training new models...\")\n",
    "        svm_wifi_model, scaler = preprocess_wifi_data()  # 如果没有模型，则训练模型\n",
    "    return svm_wifi_model, scaler\n",
    "\n",
    "# 获取实时环境数据（模拟）\n",
    "def get_real_time_data():\n",
    "    return {\n",
    "        'Temperature': np.random.uniform(15, 30),\n",
    "        'Humidity': np.random.uniform(30, 80),\n",
    "        'Light_Intensity': np.random.uniform(0, 1),\n",
    "        'Time_of_Day': np.random.randint(0, 24),\n",
    "        'User_Home': np.random.randint(0, 2),\n",
    "        'Weekday': np.random.randint(0, 2),\n",
    "        'User_Preference': np.random.uniform(0, 1)\n",
    "    }\n",
    "\n",
    "# 训练并预处理 Wi-Fi 定位模型\n",
    "def preprocess_wifi_data():\n",
    "    data = load_wifi_data(DATA_PATH)\n",
    "    if data is None:\n",
    "        print(\"No data loaded. Exiting...\")\n",
    "        return None, None\n",
    "\n",
    "    X = data.drop(\"Room\", axis=1)\n",
    "    y = data[\"Room\"]\n",
    "    \n",
    "    # 拆分训练集和测试集\n",
    "    X_train, X_test, y_train, y_test = train_test_split(X, y, test_size=0.2, random_state=42)\n",
    "    \n",
    "    # 标准化数据\n",
    "    scaler = StandardScaler()\n",
    "    X_train_scaled = scaler.fit_transform(X_train)\n",
    "    X_test_scaled = scaler.transform(X_test)\n",
    "    \n",
    "    # 训练SVM模型\n",
    "    print(\"Training SVM model for Wi-Fi localization...\")\n",
    "    svm_wifi_model = SVC(kernel='linear', random_state=42)\n",
    "    svm_wifi_model.fit(X_train_scaled, y_train)\n",
    "    \n",
    "    # 保存模型和标准化器\n",
    "    joblib.dump(svm_wifi_model, 'svm_wifi_localization_model.pkl')\n",
    "    joblib.dump(scaler, 'scaler.pkl')\n",
    "    \n",
    "    print(f\"Training accuracy: {svm_wifi_model.score(X_test_scaled, y_test):.2f}\")\n",
    "    return svm_wifi_model, scaler\n",
    "\n",
    "# 语音控制系统\n",
    "def listen_to_user_command():\n",
    "    recognizer = sr.Recognizer()\n",
    "    mic = sr.Microphone()\n",
    "\n",
    "    with mic as source:\n",
    "        print(\"Listening for user commands...\")\n",
    "        recognizer.adjust_for_ambient_noise(source, duration=1)  # 调整背景噪声\n",
    "        audio = recognizer.listen(source)\n",
    "\n",
    "    try:\n",
    "        command = recognizer.recognize_google(audio)\n",
    "        print(f\"Recognized command: {command}\")  # 打印识别到的命令\n",
    "        return command.lower()\n",
    "    except sr.UnknownValueError:\n",
    "        print(\"Sorry, I could not understand the command.\")\n",
    "        return None\n",
    "    except sr.RequestError as e:\n",
    "        print(f\"Recognition service error: {e}\")\n",
    "        return None\n",
    "\n",
    "# 基于 Wi-Fi 信号预测房间\n",
    "def predict_room(svm_wifi_model, scaler):\n",
    "    wifi_signals = np.random.uniform(-90, -30, size=(1, 7))  # 模拟 Wi-Fi 信号\n",
    "    wifi_signals_scaled = scaler.transform(wifi_signals)\n",
    "    predicted_room = svm_wifi_model.predict(wifi_signals_scaled)[0]\n",
    "    return predicted_room\n",
    "\n",
    "# 基于房间定位自动控制灯光，包括离开房间时关灯\n",
    "def control_lights_based_on_room(new_room, current_room, lights):\n",
    "    if new_room != current_room:  # 用户进入新的房间\n",
    "        if current_room is not None and lights[current_room] == 1:  # 如果当前房间的灯是开着的\n",
    "            lights[current_room] = 0  # 关闭当前房间的灯\n",
    "            print(f\"User left room {current_room}. Turning off the light.\")\n",
    "        \n",
    "        if lights[new_room] == 0:  # 如果新房间的灯是关闭的\n",
    "            lights[new_room] = 1  # 打开新房间的灯\n",
    "            print(f\"User entered room {new_room}. Turning on the light.\")\n",
    "    return lights\n",
    "\n",
    "# 主函数：运行智能家居系统，自动开关灯\n",
    "def run_smart_home_system():\n",
    "    svm_wifi_model, scaler = load_wifi_model()  # 加载或训练 Wi-Fi 模型\n",
    "    if svm_wifi_model is None or scaler is None:\n",
    "        return  # 模型未能加载或训练时退出\n",
    "\n",
    "    current_room = None  # 当前房间初始化为空\n",
    "    light_brightness = 1\n",
    "    lights = {1: 0, 2: 0, 3: 0, 4: 0}  # 初始化每个房间的灯状态，1 表示开灯，0 表示关灯\n",
    "\n",
    "    while True:\n",
    "        real_time_data = get_real_time_data()\n",
    "        ac_state, curtain_state, light_state = 1, 0, 1  # 默认设备状态模拟\n",
    "        \n",
    "        # Wi-Fi 定位预测房间\n",
    "        new_room = predict_room(svm_wifi_model, scaler)\n",
    "        print(f\"Predicted room: {new_room}, Current room: {current_room}\")  # 增加调试输出\n",
    "        \n",
    "        if new_room != current_room:\n",
    "            print(f\"User moved from room {current_room} to room {new_room}.\")\n",
    "            \n",
    "            # 自动控制灯光：离开当前房间时关闭灯，进入新房间时打开灯\n",
    "            lights = control_lights_based_on_room(new_room, current_room, lights)\n",
    "\n",
    "            # 更新当前房间\n",
    "            current_room = new_room\n",
    "\n",
    "        # 等待 1 秒再进行下一次检测，响应更快\n",
    "        time.sleep(1)\n",
    "\n",
    "# 运行智能家居系统\n",
    "if __name__ == \"__main__\":\n",
    "    run_smart_home_system()\n"
   ]
  },
  {
   "cell_type": "code",
   "execution_count": 55,
   "id": "6d471db4-6df1-46c7-98fb-3e95c271e55d",
   "metadata": {},
   "outputs": [
    {
     "ename": "SyntaxError",
     "evalue": "invalid syntax (2242690613.py, line 1)",
     "output_type": "error",
     "traceback": [
      "\u001b[1;36m  Cell \u001b[1;32mIn[55], line 1\u001b[1;36m\u001b[0m\n\u001b[1;33m    -64\t-56\t-61\t-66\t-71\t-82\t-81\t1\u001b[0m\n\u001b[1;37m       \t   \t   \t   \t   \t   \t   \t^\u001b[0m\n\u001b[1;31mSyntaxError\u001b[0m\u001b[1;31m:\u001b[0m invalid syntax\n"
     ]
    }
   ],
   "source": []
  },
  {
   "cell_type": "code",
   "execution_count": null,
   "id": "d7146f83-6728-41c1-8d8a-31e78069dc08",
   "metadata": {},
   "outputs": [],
   "source": []
  }
 ],
 "metadata": {
  "kernelspec": {
   "display_name": "Python 3 (ipykernel)",
   "language": "python",
   "name": "python3"
  },
  "language_info": {
   "codemirror_mode": {
    "name": "ipython",
    "version": 3
   },
   "file_extension": ".py",
   "mimetype": "text/x-python",
   "name": "python",
   "nbconvert_exporter": "python",
   "pygments_lexer": "ipython3",
   "version": "3.12.4"
  }
 },
 "nbformat": 4,
 "nbformat_minor": 5
}
